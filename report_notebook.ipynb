{
 "cells": [
  {
   "cell_type": "code",
   "execution_count": null,
   "id": "e2c0dc8c-a2a2-479c-aaff-1bd7d5821e1d",
   "metadata": {},
   "outputs": [],
   "source": [
    "import boto3\n",
    "import json\n",
    "import pandas as pd\n",
    "from pandasql import sqldf\n",
    "from io import StringIO"
   ]
  },
  {
   "cell_type": "markdown",
   "id": "e61975cf-1063-4635-bcbd-881d7a34a163",
   "metadata": {},
   "source": [
    "### Declare environment vars"
   ]
  },
  {
   "cell_type": "code",
   "execution_count": null,
   "id": "2a82753d-43e9-4609-a0e0-604e66bd61aa",
   "metadata": {},
   "outputs": [],
   "source": [
    "s3_bucket_name = 'haaf-rearc-quest'"
   ]
  },
  {
   "cell_type": "markdown",
   "id": "09e2e18d-afec-47c4-ba08-fe9b3f9aef18",
   "metadata": {},
   "source": [
    "### Part 3.0 - Load files from S3"
   ]
  },
  {
   "cell_type": "code",
   "execution_count": null,
   "id": "58e64f6d-cb71-480f-a51a-3c878678792a",
   "metadata": {},
   "outputs": [],
   "source": [
    "s3_bucket = boto3.resource('s3').Bucket(s3_bucket_name)"
   ]
  },
  {
   "cell_type": "code",
   "execution_count": null,
   "id": "c4d1775d-3185-4533-a0c2-1f81e05cc393",
   "metadata": {},
   "outputs": [],
   "source": [
    "csv_df = pd.read_csv('s3://haaf-rearc-quest/download.bls.gov/pub/time.series/pr/pr.data.1.AllData', delimiter='\\t')\n",
    "api_df = pd.DataFrame.from_records(json.loads(s3_bucket.Object('api_response.json').get()['Body'].read().decode('utf-8'))['data'])"
   ]
  },
  {
   "cell_type": "code",
   "execution_count": null,
   "id": "6793fe69-3ce7-4ede-9a29-0727e20ee6c8",
   "metadata": {},
   "outputs": [],
   "source": [
    "# clean\n",
    "csv_df.columns = [col.strip() for col in csv_df.columns]\n",
    "api_df.columns = [col.strip() for col in api_df.columns]\n",
    "api_df.Year = api_df.Year.astype(int)\n",
    "api_df.Population = api_df.Population.astype(int)\n",
    "csv_df['series_id'] = csv_df.series_id.apply(lambda x: x.strip())\n",
    "csv_df['period'] = csv_df.period.apply(lambda x: x.strip())"
   ]
  },
  {
   "cell_type": "code",
   "execution_count": null,
   "id": "d4dd87b5-0dc7-4a0e-b135-e38b0db9648e",
   "metadata": {},
   "outputs": [],
   "source": [
    "print(csv_df)"
   ]
  },
  {
   "cell_type": "code",
   "execution_count": null,
   "id": "2a25e0fe-9473-4c8b-a438-ba21aa984278",
   "metadata": {},
   "outputs": [],
   "source": [
    "print(api_df)"
   ]
  },
  {
   "cell_type": "markdown",
   "id": "4e58b408-b03a-447b-8e84-4ae94cae0b99",
   "metadata": {},
   "source": [
    "### Part 3.1 - Mean and STD of api_df"
   ]
  },
  {
   "cell_type": "code",
   "execution_count": null,
   "id": "4cb1731a-0c10-4661-87fb-16d501204d80",
   "metadata": {},
   "outputs": [],
   "source": [
    "print('Mean:', round(api_df.Population[(2013 <= api_df.Year) & (api_df.Year <= 2018)].mean(), 1))\n",
    "print('STD: ', round(api_df.Population[(2013 <= api_df.Year) & (api_df.Year <= 2018)].std(), 1))"
   ]
  },
  {
   "cell_type": "markdown",
   "id": "28723b10-fc8a-42d5-9a2d-bc86ebe9ea64",
   "metadata": {},
   "source": [
    "### Part 3.2 - Best year for each series_id"
   ]
  },
  {
   "cell_type": "code",
   "execution_count": null,
   "id": "b9b26477-6a15-41ae-b59b-d4ffbd3aac70",
   "metadata": {},
   "outputs": [],
   "source": [
    "print('Best year for each series_id:')\n",
    "print(sqldf(\"\"\"\n",
    "        SELECT series_id, year \n",
    "        FROM (\n",
    "            SELECT series_id, year, ROW_NUMBER() OVER (PARTITION BY series_id ORDER BY total_value DESC) rn\n",
    "            FROM (\n",
    "                SELECT series_id, year, SUM(value) as total_value\n",
    "                FROM csv_df\n",
    "                GROUP BY series_id, year\n",
    "            )\n",
    "        )\n",
    "        WHERE rn = 1\n",
    "        ORDER BY series_id ASC\n",
    "    \"\"\").to_string()\n",
    ")"
   ]
  },
  {
   "cell_type": "markdown",
   "id": "ddb02e4a-3172-450d-a5e1-14b038e597fb",
   "metadata": {},
   "source": [
    "### Part 3.3 - Value for given year"
   ]
  },
  {
   "cell_type": "code",
   "execution_count": null,
   "id": "6141bb2e-8db4-494e-8eef-ad3ea6b73906",
   "metadata": {},
   "outputs": [],
   "source": [
    "series_id = 'PRS30006032'\n",
    "period = 'Q01'"
   ]
  },
  {
   "cell_type": "code",
   "execution_count": 2,
   "id": "f5f0319a-ef4a-4af3-be69-4acf84ff40e9",
   "metadata": {},
   "outputs": [
    {
     "ename": "NameError",
     "evalue": "name 'sqldf' is not defined",
     "output_type": "error",
     "traceback": [
      "\u001b[0;31m---------------------------------------------------------------------------\u001b[0m",
      "\u001b[0;31mNameError\u001b[0m                                 Traceback (most recent call last)",
      "\u001b[0;32m<ipython-input-2-aedbef152019>\u001b[0m in \u001b[0;36m<module>\u001b[0;34m\u001b[0m\n\u001b[0;32m----> 1\u001b[0;31m sqldf(f\"\"\"\n\u001b[0m\u001b[1;32m      2\u001b[0m     \u001b[0mSELECT\u001b[0m \u001b[0mseries_id\u001b[0m\u001b[0;34m,\u001b[0m \u001b[0mc\u001b[0m\u001b[0;34m.\u001b[0m\u001b[0myear\u001b[0m\u001b[0;34m,\u001b[0m \u001b[0mperiod\u001b[0m\u001b[0;34m,\u001b[0m \u001b[0mvalue\u001b[0m\u001b[0;34m,\u001b[0m \u001b[0mpopulation\u001b[0m\u001b[0;34m\u001b[0m\u001b[0;34m\u001b[0m\u001b[0m\n\u001b[1;32m      3\u001b[0m     \u001b[0mFROM\u001b[0m \u001b[0mapi_df\u001b[0m \u001b[0ma\u001b[0m\u001b[0;34m\u001b[0m\u001b[0;34m\u001b[0m\u001b[0m\n\u001b[1;32m      4\u001b[0m     \u001b[0mLEFT\u001b[0m \u001b[0mJOIN\u001b[0m \u001b[0mcsv_df\u001b[0m \u001b[0mc\u001b[0m\u001b[0;34m\u001b[0m\u001b[0;34m\u001b[0m\u001b[0m\n\u001b[1;32m      5\u001b[0m     \u001b[0mON\u001b[0m \u001b[0mc\u001b[0m\u001b[0;34m.\u001b[0m\u001b[0myear\u001b[0m \u001b[0;34m=\u001b[0m \u001b[0ma\u001b[0m\u001b[0;34m.\u001b[0m\u001b[0mYear\u001b[0m\u001b[0;34m\u001b[0m\u001b[0;34m\u001b[0m\u001b[0m\n",
      "\u001b[0;31mNameError\u001b[0m: name 'sqldf' is not defined"
     ]
    }
   ],
   "source": [
    "sqldf(f\"\"\"\n",
    "    SELECT series_id, c.year, period, value, population\n",
    "    FROM api_df a\n",
    "    LEFT JOIN csv_df c \n",
    "    ON c.year = a.Year\n",
    "    WHERE c.series_id = '{series_id}'\n",
    "      AND c.period = '{period}'\n",
    "\"\"\")"
   ]
  },
  {
   "cell_type": "code",
   "execution_count": null,
   "id": "a0387cb6-c118-44af-95f4-3cac5e13dd06",
   "metadata": {},
   "outputs": [],
   "source": []
  }
 ],
 "metadata": {
  "instance_type": "ml.t3.medium",
  "kernelspec": {
   "display_name": "Python 3 (Data Science)",
   "language": "python",
   "name": "python3__SAGEMAKER_INTERNAL__arn:aws:sagemaker:us-east-1:081325390199:image/datascience-1.0"
  },
  "language_info": {
   "codemirror_mode": {
    "name": "ipython",
    "version": 3
   },
   "file_extension": ".py",
   "mimetype": "text/x-python",
   "name": "python",
   "nbconvert_exporter": "python",
   "pygments_lexer": "ipython3",
   "version": "3.7.10"
  }
 },
 "nbformat": 4,
 "nbformat_minor": 5
}
